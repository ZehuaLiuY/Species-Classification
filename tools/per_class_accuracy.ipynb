{
 "cells": [
  {
   "cell_type": "code",
   "id": "initial_id",
   "metadata": {
    "collapsed": true,
    "ExecuteTime": {
     "end_time": "2024-12-04T06:16:20.573260Z",
     "start_time": "2024-12-04T06:16:18.813825Z"
    }
   },
   "source": "import pandas as pd",
   "outputs": [],
   "execution_count": 1
  },
  {
   "metadata": {
    "ExecuteTime": {
     "end_time": "2024-12-04T06:16:53.707139Z",
     "start_time": "2024-12-04T06:16:53.695631Z"
    }
   },
   "cell_type": "code",
   "source": [
    "# Load classification results\n",
    "pred_path = r'E:\\result\\json\\classification\\classification_part0.json'\n",
    "gt_path = r'F:\\DATASET\\NACTI\\meta\\nacti_metadata_part0.csv'"
   ],
   "id": "c110f46b634d0302",
   "outputs": [],
   "execution_count": 4
  },
  {
   "metadata": {
    "ExecuteTime": {
     "end_time": "2024-12-04T06:17:01.372243Z",
     "start_time": "2024-12-04T06:16:55.033786Z"
    }
   },
   "cell_type": "code",
   "source": [
    "# Load classification results\n",
    "pred_df = pd.read_json(pred_path)\n",
    "gt_df = pd.read_csv(gt_path)"
   ],
   "id": "fdfae01e94f9c033",
   "outputs": [],
   "execution_count": 5
  }
 ],
 "metadata": {
  "kernelspec": {
   "display_name": "Python 3",
   "language": "python",
   "name": "python3"
  },
  "language_info": {
   "codemirror_mode": {
    "name": "ipython",
    "version": 2
   },
   "file_extension": ".py",
   "mimetype": "text/x-python",
   "name": "python",
   "nbconvert_exporter": "python",
   "pygments_lexer": "ipython2",
   "version": "2.7.6"
  }
 },
 "nbformat": 4,
 "nbformat_minor": 5
}
