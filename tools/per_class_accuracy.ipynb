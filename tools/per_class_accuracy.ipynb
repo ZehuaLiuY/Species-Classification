{
 "cells": [
  {
   "cell_type": "code",
   "id": "initial_id",
   "metadata": {
    "collapsed": true,
    "ExecuteTime": {
     "end_time": "2024-12-07T21:50:49.148151Z",
     "start_time": "2024-12-07T21:50:49.141150Z"
    }
   },
   "source": [
    "import pandas as pd\n",
    "import matplotlib.pyplot as plt"
   ],
   "outputs": [],
   "execution_count": 36
  },
  {
   "metadata": {
    "ExecuteTime": {
     "end_time": "2024-12-07T21:50:49.193983Z",
     "start_time": "2024-12-07T21:50:49.179469Z"
    }
   },
   "cell_type": "code",
   "source": [
    "# Load classification results\n",
    "pred_path = r'E:\\result\\json\\classification\\classification_part0.json'\n",
    "gt_path = r'F:\\DATASET\\NACTI\\meta\\nacti_metadata_part0.csv'"
   ],
   "id": "c110f46b634d0302",
   "outputs": [],
   "execution_count": 37
  },
  {
   "metadata": {
    "ExecuteTime": {
     "end_time": "2024-12-07T21:50:56.020568Z",
     "start_time": "2024-12-07T21:50:49.195985Z"
    }
   },
   "cell_type": "code",
   "source": [
    "# Load classification results\n",
    "pred_df = pd.read_json(pred_path)\n",
    "gt_df = pd.read_csv(gt_path)"
   ],
   "id": "fdfae01e94f9c033",
   "outputs": [],
   "execution_count": 38
  },
  {
   "metadata": {
    "ExecuteTime": {
     "end_time": "2024-12-07T21:50:56.159539Z",
     "start_time": "2024-12-07T21:50:56.037208Z"
    }
   },
   "cell_type": "code",
   "source": [
    "# Get the class names\n",
    "gt_class_names = gt_df['common_name'].unique()\n",
    "pred_df_class_names = pred_df['predicted_class'].unique()\n",
    "print(gt_class_names)\n",
    "print(\"=====================================\")\n",
    "print(pred_df_class_names)"
   ],
   "id": "6d4caab132fff95c",
   "outputs": [
    {
     "name": "stdout",
     "output_type": "stream",
     "text": [
      "['red deer' 'coyote' 'american marten' 'mule deer' 'raccoon'\n",
      " 'snowshoe hare' 'cougar' 'american black bear' 'red fox'\n",
      " 'american red squirrel' 'unidentified bird' 'north american porcupine'\n",
      " 'yellow-bellied marmot' 'moose' 'unidentified chipmunk' 'wild turkey'\n",
      " 'domestic cow' 'bobcat' 'horse' 'domestic dog' 'ermine' 'gray jay'\n",
      " 'unidentified deer mouse' 'striped skunk' 'house wren' \"steller's jay\"\n",
      " 'dusky grouse' 'dark-eyed junco' 'vehicle' 'gray fox'\n",
      " 'eastern gray squirrel' 'wild boar' 'elk' 'california ground squirrel'\n",
      " 'california quail' 'unidentified deer' 'black-tailed jackrabbit'\n",
      " 'long-tailed weasel' 'unidentified rabbit' 'unidentified mouse'\n",
      " 'unidentified pocket gopher' 'unidentified pack rat' 'european badger'\n",
      " 'unidentified corvus' 'virginia opossum' 'unidentified accipitrid']\n",
      "=====================================\n",
      "['Leopardus' 'Mazama' 'Unknown' 'Cerdocyon' 'Pecari' 'Bos' 'Capra'\n",
      " 'Dasyprocta' 'Equus' 'Procyon' 'Cuniculus' 'Eira' 'Crypturellus'\n",
      " 'Tinamus' 'Tamandua' 'Ortalis' 'Dasypus' 'Nyctidromus' 'Momotus'\n",
      " 'Furnarius' 'Leptotila' 'Canis' 'Didelphis' 'Tapirus' 'Catharus'\n",
      " 'Emballonura' 'Human' 'Crax' 'Aramides' 'Columbina']\n"
     ]
    }
   ],
   "execution_count": 39
  },
  {
   "metadata": {
    "ExecuteTime": {
     "end_time": "2024-12-07T21:50:56.594212Z",
     "start_time": "2024-12-07T21:50:56.176059Z"
    }
   },
   "cell_type": "code",
   "source": [
    "# 1. 手动创建一个映射字典\n",
    "mapping = {\n",
    "    'red deer': 'Mazama',\n",
    "    'coyote': 'Cerdocyon',\n",
    "    'american marten': 'Eira',\n",
    "    'mule deer': 'Mazama',\n",
    "    'raccoon': 'Procyon',\n",
    "    'snowshoe hare': 'Cuniculus',\n",
    "    'cougar': 'Leopardus',\n",
    "    'american black bear': 'Unknown',\n",
    "    'red fox': 'Canis',\n",
    "    'american red squirrel': 'Dasyprocta',\n",
    "    'unidentified bird': 'Crypturellus',\n",
    "    'north american porcupine': 'Unknown',\n",
    "    'yellow-bellied marmot': 'Unknown',\n",
    "    'moose': 'Tapirus',\n",
    "    'unidentified chipmunk': 'Unknown',\n",
    "    'wild turkey': 'Ortalis',\n",
    "    'domestic cow': 'Bos',\n",
    "    'bobcat': 'Leopardus',\n",
    "    'horse': 'Equus',\n",
    "    'domestic dog': 'Canis',\n",
    "    'ermine': 'Unknown',\n",
    "    'gray jay': 'Unknown',\n",
    "    'unidentified deer mouse': 'Unknown',\n",
    "    'striped skunk': 'Unknown',\n",
    "    'house wren': 'Furnarius',\n",
    "    \"steller's jay\": 'Unknown',\n",
    "    'dusky grouse': 'Unknown',\n",
    "    'dark-eyed junco': 'Unknown',\n",
    "    'vehicle': 'Unknown',\n",
    "    'gray fox': 'Cerdocyon',\n",
    "    'eastern gray squirrel': 'Dasyprocta',\n",
    "    'wild boar': 'Pecari',\n",
    "    'elk': 'Mazama',\n",
    "    'california ground squirrel': 'Dasyprocta',\n",
    "    'california quail': 'Leptotila',\n",
    "    'unidentified deer': 'Mazama',\n",
    "    'black-tailed jackrabbit': 'Cuniculus',\n",
    "    'long-tailed weasel': 'Unknown',\n",
    "    'unidentified rabbit': 'Cuniculus',\n",
    "    'unidentified mouse': 'Unknown',\n",
    "    'unidentified pocket gopher': 'Unknown',\n",
    "    'unidentified pack rat': 'Unknown',\n",
    "    'european badger': 'Unknown',\n",
    "    'unidentified corvus': 'Unknown',\n",
    "    'virginia opossum': 'Didelphis',\n",
    "    'unidentified accipitrid': 'Unknown'\n",
    "}\n",
    "\n",
    "gt_df['mapped_class'] = gt_df['common_name'].map(mapping)\n",
    "pred_df['mapped_class'] = pred_df['predicted_class'].map(mapping)\n",
    "\n",
    "print(gt_df[['common_name', 'mapped_class']].drop_duplicates())\n",
    "print(pred_df[['predicted_class', 'mapped_class']].drop_duplicates())\n"
   ],
   "id": "3b9e80862ad89a33",
   "outputs": [
    {
     "name": "stdout",
     "output_type": "stream",
     "text": [
      "                       common_name  mapped_class\n",
      "0                         red deer        Mazama\n",
      "54                          coyote     Cerdocyon\n",
      "72                 american marten          Eira\n",
      "144                      mule deer        Mazama\n",
      "471                        raccoon       Procyon\n",
      "483                  snowshoe hare     Cuniculus\n",
      "671                         cougar     Leopardus\n",
      "680            american black bear       Unknown\n",
      "986                        red fox         Canis\n",
      "1742         american red squirrel    Dasyprocta\n",
      "3930             unidentified bird  Crypturellus\n",
      "7949      north american porcupine       Unknown\n",
      "8612         yellow-bellied marmot       Unknown\n",
      "8795                         moose       Tapirus\n",
      "8964         unidentified chipmunk       Unknown\n",
      "11852                  wild turkey       Ortalis\n",
      "12649                 domestic cow           Bos\n",
      "13347                       bobcat     Leopardus\n",
      "33201                        horse         Equus\n",
      "43404                 domestic dog         Canis\n",
      "139896                      ermine       Unknown\n",
      "237737                    gray jay       Unknown\n",
      "244023     unidentified deer mouse       Unknown\n",
      "256609               striped skunk       Unknown\n",
      "259659                  house wren     Furnarius\n",
      "259663               steller's jay       Unknown\n",
      "268150                dusky grouse       Unknown\n",
      "278799             dark-eyed junco       Unknown\n",
      "329688                     vehicle       Unknown\n",
      "329737                    gray fox     Cerdocyon\n",
      "329741       eastern gray squirrel    Dasyprocta\n",
      "329784                   wild boar        Pecari\n",
      "330320                         elk        Mazama\n",
      "330882  california ground squirrel    Dasyprocta\n",
      "331071            california quail     Leptotila\n",
      "331750           unidentified deer        Mazama\n",
      "332989     black-tailed jackrabbit     Cuniculus\n",
      "335434          long-tailed weasel       Unknown\n",
      "337044         unidentified rabbit     Cuniculus\n",
      "346293          unidentified mouse       Unknown\n",
      "347026  unidentified pocket gopher       Unknown\n",
      "347510       unidentified pack rat       Unknown\n",
      "361629             european badger       Unknown\n",
      "370823         unidentified corvus       Unknown\n",
      "371774            virginia opossum     Didelphis\n",
      "380633     unidentified accipitrid       Unknown\n",
      "        predicted_class mapped_class\n",
      "0             Leopardus          NaN\n",
      "1                Mazama          NaN\n",
      "2               Unknown          NaN\n",
      "4             Cerdocyon          NaN\n",
      "5                Pecari          NaN\n",
      "58                  Bos          NaN\n",
      "61                Capra          NaN\n",
      "65           Dasyprocta          NaN\n",
      "239               Equus          NaN\n",
      "314             Procyon          NaN\n",
      "626           Cuniculus          NaN\n",
      "3951               Eira          NaN\n",
      "4021       Crypturellus          NaN\n",
      "4129            Tinamus          NaN\n",
      "7977           Tamandua          NaN\n",
      "20378           Ortalis          NaN\n",
      "26868           Dasypus          NaN\n",
      "35139       Nyctidromus          NaN\n",
      "37357           Momotus          NaN\n",
      "91348         Furnarius          NaN\n",
      "105800        Leptotila          NaN\n",
      "141442            Canis          NaN\n",
      "159926        Didelphis          NaN\n",
      "244720          Tapirus          NaN\n",
      "373383         Catharus          NaN\n",
      "449899      Emballonura          NaN\n",
      "473374            Human          NaN\n",
      "474359             Crax          NaN\n",
      "475045         Aramides          NaN\n",
      "1203261       Columbina          NaN\n"
     ]
    }
   ],
   "execution_count": 40
  },
  {
   "metadata": {
    "ExecuteTime": {
     "end_time": "2024-12-07T21:54:30.095059Z",
     "start_time": "2024-12-07T21:54:27.744948Z"
    }
   },
   "cell_type": "code",
   "source": [
    "gt_df['filename'] = gt_df['filename'].apply(lambda x: x.split(\"\\\\\")[-1])\n",
    "pred_df['filename'] = pred_df['img_id'].apply(lambda x: x.split(\"/\")[-1])\n",
    "\n",
    "gt_df['filename'] = gt_df['filename'].str.replace(r'^.*part0/sub\\d+/', '', regex=True)\n",
    "pred_df['filename'] = pred_df['filename'].str.replace(r'^.*\\\\', '', regex=True)\n",
    "\n",
    "merged_df = pd.merge(gt_df, pred_df, on='filename', suffixes=('_gt', '_pred'))\n",
    "print(gt_df['filename'])\n",
    "print(pred_df['filename'])\n"
   ],
   "id": "3990cff009984d5d",
   "outputs": [
    {
     "name": "stdout",
     "output_type": "stream",
     "text": [
      "0           2010_Unit150_Ivan097_img0001.jpg\n",
      "1           2010_Unit150_Ivan097_img0002.jpg\n",
      "2           2010_Unit150_Ivan097_img0003.jpg\n",
      "3           2010_Unit150_Ivan097_img0004.jpg\n",
      "4           2010_Unit150_Ivan097_img0005.jpg\n",
      "                         ...                \n",
      "999995    CA-41_09_16_2015_CA-41_0017315.jpg\n",
      "999996    CA-41_09_16_2015_CA-41_0017316.jpg\n",
      "999997    CA-41_09_16_2015_CA-41_0017317.jpg\n",
      "999998    CA-41_09_16_2015_CA-41_0017320.jpg\n",
      "999999    CA-41_09_16_2015_CA-41_0017321.jpg\n",
      "Name: filename, Length: 1000000, dtype: object\n",
      "0            2010_Unit150_Ivan097_img0001.jpg\n",
      "1            2010_Unit150_Ivan097_img0002.jpg\n",
      "2            2010_Unit150_Ivan097_img0003.jpg\n",
      "3            2010_Unit150_Ivan097_img0004.jpg\n",
      "4            2010_Unit150_Ivan097_img0005.jpg\n",
      "                          ...                \n",
      "1288719    CA-41_09_16_2015_CA-41_0017316.jpg\n",
      "1288720    CA-41_09_16_2015_CA-41_0017316.jpg\n",
      "1288721    CA-41_09_16_2015_CA-41_0017317.jpg\n",
      "1288722    CA-41_09_16_2015_CA-41_0017320.jpg\n",
      "1288723    CA-41_09_16_2015_CA-41_0017321.jpg\n",
      "Name: filename, Length: 1288724, dtype: object\n"
     ]
    }
   ],
   "execution_count": 52
  },
  {
   "metadata": {
    "ExecuteTime": {
     "end_time": "2024-12-07T21:54:41.171935Z",
     "start_time": "2024-12-07T21:54:41.133974Z"
    }
   },
   "cell_type": "code",
   "source": "merged_df['is_correct'] = merged_df['mapped_class_gt'] == merged_df['mapped_class_pred']",
   "id": "1b4f94ed80911357",
   "outputs": [],
   "execution_count": 53
  },
  {
   "metadata": {
    "ExecuteTime": {
     "end_time": "2024-12-07T21:54:42.510579Z",
     "start_time": "2024-12-07T21:54:42.447261Z"
    }
   },
   "cell_type": "code",
   "source": [
    "per_class_accuracy = (\n",
    "    merged_df.groupby('mapped_class_gt')\n",
    "    .agg(\n",
    "        total_samples=('is_correct', 'size'),\n",
    "        correct_predictions=('is_correct', 'sum'),\n",
    "        accuracy=('is_correct', 'mean')\n",
    "    )\n",
    "    .reset_index()\n",
    ")\n",
    "print(per_class_accuracy)"
   ],
   "id": "dc6d54195bdef0ef",
   "outputs": [
    {
     "name": "stdout",
     "output_type": "stream",
     "text": [
      "   mapped_class_gt  total_samples  correct_predictions  accuracy\n",
      "0              Bos         602329                    0       0.0\n",
      "1            Canis           3396                    0       0.0\n",
      "2        Cerdocyon          23831                    0       0.0\n",
      "3     Crypturellus           6657                    0       0.0\n",
      "4        Cuniculus          18371                    0       0.0\n",
      "5       Dasyprocta          56897                    0       0.0\n",
      "6        Didelphis              5                    0       0.0\n",
      "7             Eira           1394                    0       0.0\n",
      "8            Equus            238                    0       0.0\n",
      "9        Furnarius              3                    0       0.0\n",
      "10       Leopardus          30425                    0       0.0\n",
      "11       Leptotila           3059                    0       0.0\n",
      "12          Mazama         416431                    0       0.0\n",
      "13         Ortalis           1538                    0       0.0\n",
      "14          Pecari          58663                    0       0.0\n",
      "15         Procyon            119                    0       0.0\n",
      "16         Tapirus          11314                    0       0.0\n",
      "17         Unknown          54054                    0       0.0\n"
     ]
    }
   ],
   "execution_count": 54
  },
  {
   "metadata": {
    "ExecuteTime": {
     "end_time": "2024-12-07T21:50:58.568777Z",
     "start_time": "2024-12-07T21:50:58.477374Z"
    }
   },
   "cell_type": "code",
   "source": [
    "# 增加样本数量的标注\n",
    "plt.figure(figsize=(12, 6))\n",
    "bars = plt.bar(\n",
    "    per_class_accuracy['mapped_class_gt'],\n",
    "    per_class_accuracy['accuracy'],\n",
    "    color='skyblue'\n",
    ")\n",
    "plt.title('Per-Class Accuracy with Sample Counts', fontsize=16)\n",
    "plt.xlabel('Class', fontsize=14)\n",
    "plt.ylabel('Accuracy', fontsize=14)\n",
    "plt.ylim(0, 1)\n",
    "plt.xticks(rotation=45, fontsize=12)\n",
    "plt.grid(axis='y', linestyle='--', alpha=0.7)\n",
    "\n",
    "# 为每个柱状图添加样本数量和精度标注\n",
    "for bar, (_, row) in zip(bars, per_class_accuracy.iterrows()):\n",
    "    height = bar.get_height()\n",
    "    plt.text(\n",
    "        bar.get_x() + bar.get_width() / 2,\n",
    "        height + 0.02,\n",
    "        f\"{row['accuracy']:.2%}\",\n",
    "        ha='center', va='bottom', fontsize=10\n",
    "    )\n",
    "    plt.text(\n",
    "        bar.get_x() + bar.get_width() / 2,\n",
    "        0.05,\n",
    "        f\"n={row['total_samples']}\",\n",
    "        ha='center', va='bottom', fontsize=9, color='darkblue'\n",
    "    )\n",
    "\n",
    "plt.tight_layout()\n",
    "plt.show()\n"
   ],
   "id": "2250307597f852d6",
   "outputs": [
    {
     "data": {
      "text/plain": [
       "<Figure size 1200x600 with 1 Axes>"
      ],
      "image/png": "[encoded data removed]"
     },
     "metadata": {},
     "output_type": "display_data"
    }
   ],
   "execution_count": 44
  }
 ],
 "metadata": {
  "kernelspec": {
   "display_name": "Python 3",
   "language": "python",
   "name": "python3"
  },
  "language_info": {
   "codemirror_mode": {
    "name": "ipython",
    "version": 2
   },
   "file_extension": ".py",
   "mimetype": "text/x-python",
   "name": "python",
   "nbconvert_exporter": "python",
   "pygments_lexer": "ipython2",
   "version": "2.7.6"
  }
 },
 "nbformat": 4,
 "nbformat_minor": 5
}
